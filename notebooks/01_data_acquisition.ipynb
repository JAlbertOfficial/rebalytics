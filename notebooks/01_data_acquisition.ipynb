{
 "cells": [
  {
   "cell_type": "markdown",
   "metadata": {},
   "source": [
    "# 0. Meta"
   ]
  },
  {
   "cell_type": "markdown",
   "metadata": {},
   "source": [
    "## 0.1. Modules"
   ]
  },
  {
   "cell_type": "code",
   "execution_count": 11,
   "metadata": {},
   "outputs": [],
   "source": [
    "import yfinance as yf  # Used for downloading historical financial data, such as stock prices, exchange rates, and ETF values.\n",
    "import json  # Used for saving and loading data in JSON format, which is useful for storing metadata and time series data in a structured way.\n",
    "import os  # Used for handling file paths and directories, such as creating folders and specifying where data files are saved.\n",
    "import pandas as pd"
   ]
  },
  {
   "cell_type": "markdown",
   "metadata": {},
   "source": [
    "## 0.2. Functions"
   ]
  },
  {
   "cell_type": "code",
   "execution_count": 2,
   "metadata": {},
   "outputs": [],
   "source": [
    "def download_data(ticker, type_, name, isin=None, ter=None, interval='1mo', id_=None):\n",
    "    \"\"\"\n",
    "    Retrieves financial time series data for a specified asset using the yfinance library.\n",
    "    \n",
    "    Parameters:\n",
    "        ticker (str): The ticker symbol used to identify the asset on Yahoo Finance (e.g., 'AAPL' for Apple).\n",
    "        type_ (str): The type of the asset (e.g., 'equity', 'currency', 'govbond').\n",
    "        name (str): A human-readable name for the asset.\n",
    "        isin (str, optional): The International Securities Identification Number, providing a unique identifier for the asset.\n",
    "        ter (float, optional): The Total Expense Ratio (TER) of the asset, indicating its annual costs.\n",
    "        interval (str, optional): The data retrieval frequency, set to '1mo' for monthly data. Defaults to '1mo'.\n",
    "        id_ (str, optional): A custom identifier for the asset, usually a simplified version of the name.\n",
    "\n",
    "    Returns:\n",
    "        dict: A dictionary containing the asset's metadata and its historical price data, \n",
    "              with the time series data under the key 'data'.\n",
    "    \"\"\"\n",
    "    return {\n",
    "        \"type\": type_,\n",
    "        \"name\": name,\n",
    "        \"ticker\": ticker,\n",
    "        \"isin\": isin,\n",
    "        \"TER\": ter,\n",
    "        \"id\": id_,\n",
    "        \"data\": yf.download(ticker, interval=interval)\n",
    "    }"
   ]
  },
  {
   "cell_type": "markdown",
   "metadata": {},
   "source": [
    "# 1. Data Source and Asset Selection\n",
    "\n",
    "The data for this analysis is sourced from Yahoo Finance using the `yfinance` Python library, which provides reliable access to historical price data for a wide range of financial assets. The data is retrieved at a monthly frequency to align with long-term investment perspectives, minimizing the impact of short-term volatility while focusing on trends and asset performance over time.\n",
    "\n",
    "The selected assets represent an ultra-diversified portfolio designed to achieve broad diversification across various dimensions, including geographies, sectors, asset classes, and investment strategies. The aim is not only to build resilience against market fluctuations, reduce idiosyncratic risks, and capture growth opportunities in different market conditions but also to enhance the effectiveness of rebalancing. Rebalancing works best when assets have low or negative correlations, as this allows the strategy to capitalize on price divergences, buying underperforming assets and selling overperforming ones, thus maintaining the portfolio’s target allocation while potentially boosting returns.\n",
    "\n",
    "1. **Equity Strategies (Smart Beta)**: This includes factors such as *Value*, *Momentum*, *Quality*, *Growth*, and *Minimum Volatility*, each providing a different risk-return profile. These factors are known for their historical potential to outperform the market under specific economic conditions. For example, value stocks tend to perform well during recoveries, while momentum strategies benefit in strong upward markets.\n",
    "\n",
    "2. **Geographic and Market Diversification**: Regional equity exposures include developed markets like the *S&P 500*, global large-cap stocks, *Small Cap* equities, and *Emerging Markets*. This ensures exposure to both established economies and regions with high growth potential, balancing stability and growth opportunities.\n",
    "\n",
    "3. **Fixed Income**: The inclusion of *US Treasuries*, *Japanese Government Bonds*, and *German Government Bonds* across different maturities offers a range of duration exposures, serving as a defensive component within the portfolio. These bonds typically perform well during periods of market uncertainty and low interest rates, providing a counterbalance to riskier assets.\n",
    "\n",
    "4. **Commodities**: *Physical Gold* and diversified *Commodity ETFs* (including ex-agriculture and livestock) are included as hedges against inflation and market downturns. Gold is a classic safe-haven asset, while broader commodity exposure captures returns from rising prices of natural resources and energy.\n",
    "\n",
    "5. **Cryptocurrencies**: *Bitcoin* is included for its role as a digital store of value and its potential for high returns. It provides diversification beyond traditional assets and has gained increasing acceptance among institutional investors as a non-correlated asset.\n",
    "\n",
    "6. **Sustainable Investing (SRI/ESG)**: The portfolio includes socially responsible investment options such as *SRI-focused ETFs* and *ESG-enhanced strategies*. These align with the growing demand for investments that consider environmental, social, and governance factors, catering to both ethical considerations and the potential for long-term resilience in companies with sustainable practices.\n",
    "\n",
    "7. **Safe Haven Currencies**: Exposure to currencies like the *Swiss Franc (CHF)*, *Japanese Yen (JPY)*, and the *Euro (EUR)* against the *US Dollar (USD)* helps mitigate currency risk. These currencies are traditionally considered safe havens, providing stability during periods of geopolitical tension and global financial stress."
   ]
  },
  {
   "cell_type": "markdown",
   "metadata": {},
   "source": [
    "# 2. Data Acquisition"
   ]
  },
  {
   "cell_type": "markdown",
   "metadata": {},
   "source": [
    "This code downloads and stores monthly price data for a variety of financial assets, including currencies, government bonds, commodities, equities, and cryptocurrency, using the `download_data` function. Each asset is represented as an entry in the `asset_prices_monthly_usd_dict` dictionary. The metadata for each asset, such as its type, name, ticker, ISIN, and TER, is stored alongside the time series data, which is fetched in monthly intervals. This structure allows for easy access and analysis of the assets' price movements over time in USD.\n"
   ]
  },
  {
   "cell_type": "code",
   "execution_count": 3,
   "metadata": {},
   "outputs": [
    {
     "name": "stderr",
     "output_type": "stream",
     "text": [
      "[*********************100%***********************]  1 of 1 completed\n",
      "[*********************100%***********************]  1 of 1 completed\n",
      "[*********************100%***********************]  1 of 1 completed\n",
      "[*********************100%***********************]  1 of 1 completed\n",
      "[*********************100%***********************]  1 of 1 completed\n",
      "[*********************100%***********************]  1 of 1 completed\n",
      "[*********************100%***********************]  1 of 1 completed\n",
      "[*********************100%***********************]  1 of 1 completed\n",
      "[*********************100%***********************]  1 of 1 completed\n",
      "[*********************100%***********************]  1 of 1 completed\n",
      "[*********************100%***********************]  1 of 1 completed\n",
      "[*********************100%***********************]  1 of 1 completed\n",
      "[*********************100%***********************]  1 of 1 completed\n",
      "[*********************100%***********************]  1 of 1 completed\n",
      "[*********************100%***********************]  1 of 1 completed\n",
      "[*********************100%***********************]  1 of 1 completed\n",
      "[*********************100%***********************]  1 of 1 completed\n",
      "[*********************100%***********************]  1 of 1 completed\n",
      "[*********************100%***********************]  1 of 1 completed\n",
      "[*********************100%***********************]  1 of 1 completed\n",
      "[*********************100%***********************]  1 of 1 completed\n",
      "[*********************100%***********************]  1 of 1 completed\n"
     ]
    }
   ],
   "source": [
    "# Download and store monthly price data with metadata for currencies, bonds, commodities, equities, and crypto.\n",
    "asset_prices_monthly_usd_dict = {\n",
    "    \"currency_chf\": download_data('CHFUSD=X', 'currency', 'CHF/USD', id_='currency chf'),\n",
    "    \"currency_jpy\": download_data('JPYUSD=X', 'currency', 'JPY/USD', id_='currency jpy'),\n",
    "    \"currency_eur\": download_data('EURUSD=X', 'currency', 'EUR/USD', id_='currency eur'),\n",
    "\n",
    "    \"govbond_usa\": download_data('XUTD.L', 'govbond', 'Xtrackers US Treasuries UCITS ETF', 'LU0429459356', 0.06, id_='govbond usa'),\n",
    "    \"govbond_japan\": download_data('XJSE.DE', 'govbond', 'Xtrackers Japan Government Bond UCITS ETF 1C', 'LU0952581584', 0.15, id_='govbond japan'),\n",
    "    \"govbond_germany\": download_data('X03G.DE', 'govbond', 'Xtrackers II Germany Government Bond UCITS ETF 1C', 'LU0643975161', 0.15, id_='govbond germany'),\n",
    "\n",
    "    \"commodity_gold\": download_data('IGLN.L', 'commodity', 'iShares Physical Gold ETC', 'IE00B4ND3602', 0.12, id_='commodity gold'),\n",
    "    \"commodity_diversified_ex_agliv\": download_data('XBCU.L', 'commodity', 'Xtrackers Bloomberg Commodity ex-Agriculture & Livestock Swap UCITS ETF', 'LU0460391732', 0.29, id_='commodity diversified ex agliv'),\n",
    "    \"commodity_diversified\": download_data('EXXY.DE', 'commodity', 'iShares Diversified Commodity Swap UCITS ETF (DE)', 'DE000A0H0728', 0.46, id_='commodity diversified'),\n",
    "\n",
    "    \"equity_small_cap\": download_data('WDSC.L', 'equity', 'SPDR MSCI World Small Cap UCITS ETF', 'IE00BCBJG560', 0.45, id_='equity small cap'),\n",
    "    \"equity_momentum\": download_data('IWMO.L', 'equity', 'iShares Edge MSCI World Momentum Factor UCITS ETF (Acc)', 'IE00BP3QZ825', 0.25, id_='equity momentum'),\n",
    "    \"equity_value\": download_data('IWVL.L', 'equity', 'iShares Edge MSCI World Value Factor UCITS ETF', 'IE00BP3QZB59', 0.25, id_='equity value'),\n",
    "    \"equity_growth\": download_data('UST.PA', 'equity', 'Amundi Nasdaq-100 II UCITS ETF Acc', 'LU1829221024', 0.22, id_='equity growth'),\n",
    "    \"equity_quality\": download_data('IWQU.L', 'equity', 'iShares Edge MSCI World Quality Factor UCITS ETF', 'IE00BP3QZ601', 0.25, id_='equity quality'),\n",
    "    \"equity_min_volatility\": download_data('MVOL.L', 'equity', 'iShares Edge MSCI World Minimum Volatility UCITS ETF USD (Acc)', 'IE00B8FHGS14', 0.3, id_='equity min volatility'),\n",
    "    \"equity_emerging_markets\": download_data('EMIM.L', 'equity', 'iShares Core MSCI Emerging Markets IMI UCITS ETF (Acc)', 'IE00BKM4GZ66', 0.18, id_='equity emerging markets'),\n",
    "    \"equity_sri\": download_data('UIMM.DE', 'equity', 'UBS (LUX) MSCI World Socially Responsible UCITS ETF (Dist)', 'LU0629459743', 0.22, id_='equity sri'),\n",
    "    \"equity_dividend\": download_data('VHYD.L', 'equity', 'Vanguard FTSE All-World High Dividend Yield UCITS ETF Distributing', 'IE00B8GKDB10', 0.29, id_='equity dividend'),\n",
    "    \"equity_acwi_imi\": download_data('SPYI.DE', 'equity', 'SPDR MSCI ACWI IMI UCITS ETF USD Unhedged (Acc)', 'IE00B3YLTY66', 0.17, id_='equity acwi imi'),\n",
    "    \"equity_large_cap_us\": download_data('CSSPX.MI', 'equity', 'iShares Core S&P 500 UCITS ETF USD (Acc)', 'IE00B5BMR087', 0.07, id_='equity large cap us'),\n",
    "    \"equity_large_cap_global\": download_data('EXI2.DE', 'equity', 'iShares Dow Jones Global Titans 50 UCITS ETF (DE)', 'DE0006289382', 0.51, id_='equity large cap global'),\n",
    "\n",
    "    \"crypto_bitcoin\": download_data('BTC-USD', 'crypto', 'Bitcoin Spot Price in USD', id_='crypto bitcoin'),\n",
    "}"
   ]
  },
  {
   "cell_type": "markdown",
   "metadata": {},
   "source": [
    "# 3. Data Storage"
   ]
  },
  {
   "cell_type": "markdown",
   "metadata": {},
   "source": [
    "This code saves both metadata and time series data for various financial assets in a structured format. The metadata—containing details like asset type, name, ISIN, and TER—is combined with the time series data for each asset into a single JSON file (asset_prices_monthly_usd.json). The time series data is converted into a dictionary format with date values as strings to ensure compatibility with the JSON format. This approach allows all asset data, including historical price information, to be stored together in one file, making it easier to manage and access."
   ]
  },
  {
   "cell_type": "code",
   "execution_count": 8,
   "metadata": {},
   "outputs": [],
   "source": [
    "# Define the path for saving data, relative to the working directory\n",
    "base_path = os.path.join('..', 'data', 'raw')\n",
    "os.makedirs(base_path, exist_ok=True)\n",
    "\n",
    "# Prepare the data for saving by converting DataFrames to dictionaries with string keys\n",
    "asset_data_serializable = {\n",
    "    key: {\n",
    "        \"type\": value[\"type\"],\n",
    "        \"name\": value[\"name\"],\n",
    "        \"ticker\": value[\"ticker\"],\n",
    "        \"isin\": value[\"isin\"],\n",
    "        \"TER\": value[\"TER\"],\n",
    "        \"id\": value[\"id\"],\n",
    "        \"data\": {\n",
    "            str(date): price for date, price in value[\"data\"].to_dict(orient='index').items()\n",
    "        }  # Convert DataFrame to a dictionary with string keys\n",
    "    }\n",
    "    for key, value in asset_prices_monthly_usd_dict.items()\n",
    "}\n",
    "\n",
    "# Save the entire dictionary as a JSON file\n",
    "file_path = os.path.join(base_path, 'asset_prices_monthly_usd.json')\n",
    "with open(file_path, 'w') as f:\n",
    "    json.dump(asset_data_serializable, f, indent=4)"
   ]
  },
  {
   "cell_type": "markdown",
   "metadata": {},
   "source": [
    "This code extracts the \"Close\" price data for each asset from the `asset_prices_monthly_usd_dict` and combines them into a single DataFrame. For each asset, it takes the \"Close\" prices, renames the column to match the asset's name, and adds it to a list of DataFrames. These DataFrames are then merged into one DataFrame, `asset_prices_monthly_usd_df`, using the date as the common index. This results in a table where each column represents the \"Close\" price history of a specific asset, aligned by date."
   ]
  },
  {
   "cell_type": "code",
   "execution_count": 17,
   "metadata": {},
   "outputs": [],
   "source": [
    "# List to store DataFrames of \"Close\" prices\n",
    "df_list = []\n",
    "\n",
    "for key, value in asset_prices_monthly_usd_dict.items():\n",
    "    name = value['name']\n",
    "    data = value['data']\n",
    "    \n",
    "    # Extract the \"Close\" column and rename it using the asset's \"name\"\n",
    "    close_data = data[['Close']].rename(columns={'Close': name})\n",
    "    \n",
    "    # Add the DataFrame to the list\n",
    "    df_list.append(close_data)\n",
    "\n",
    "# Combine all DataFrames using the common date index\n",
    "asset_prices_monthly_usd_df = pd.concat(df_list, axis=1)\n",
    "\n",
    "# Fill empty cells with 'NA'\n",
    "asset_prices_monthly_usd_df = asset_prices_monthly_usd_df.fillna('NA')"
   ]
  },
  {
   "cell_type": "code",
   "execution_count": 18,
   "metadata": {},
   "outputs": [],
   "source": [
    "# Define the path for saving the combined DataFrame as a CSV file\n",
    "base_path = os.path.join('..', 'data', 'raw')\n",
    "os.makedirs(base_path, exist_ok=True)\n",
    "\n",
    "# Define the full file path for the CSV\n",
    "file_path = os.path.join(base_path, 'asset_close_prices_monthly_usd.csv')\n",
    "\n",
    "# Save the DataFrame to the specified path as a CSV file\n",
    "asset_prices_monthly_usd_df.to_csv(file_path)"
   ]
  }
 ],
 "metadata": {
  "kernelspec": {
   "display_name": "Python 3",
   "language": "python",
   "name": "python3"
  },
  "language_info": {
   "codemirror_mode": {
    "name": "ipython",
    "version": 3
   },
   "file_extension": ".py",
   "mimetype": "text/x-python",
   "name": "python",
   "nbconvert_exporter": "python",
   "pygments_lexer": "ipython3",
   "version": "3.12.7"
  }
 },
 "nbformat": 4,
 "nbformat_minor": 2
}
